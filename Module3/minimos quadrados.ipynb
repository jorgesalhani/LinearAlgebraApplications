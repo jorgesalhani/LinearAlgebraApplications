{
 "cells": [
  {
   "cell_type": "markdown",
   "metadata": {
    "id": "_GryOrGhegGM"
   },
   "source": [
    "# <font color='blue'>MAI5002 - Fundamentos de Matemática Aplicada</font>\n",
    "\n",
    "## <font color='blue'>Mínimos Quadrados</font>\n",
    "\n",
    "### Material produzido por Luis Gustavo Nonato\n",
    "---\n",
    "ICMC-USP"
   ]
  },
  {
   "cell_type": "markdown",
   "metadata": {
    "id": "AU4sbb26egGQ"
   },
   "source": [
    "### Conteúdo\n",
    "- Equação Normal\n",
    "- Projeção em Subespaços\n",
    "- Aproximação de Funções\n",
    "- Mínimos Quadrados Ponderados"
   ]
  },
  {
   "cell_type": "markdown",
   "metadata": {
    "id": "Mth8dxHEegGR"
   },
   "source": [
    "## <font color='blue'>Equação Normal</font>"
   ]
  },
  {
   "cell_type": "markdown",
   "metadata": {
    "id": "Jg8QOnRPegGR"
   },
   "source": [
    "Considere uma matriz $\\mathbf{A}$ com $n$ linhas e $k$ colunas e vamos assumir que $n\\geq k$.\n",
    "\n",
    "**Pergunta:** O sistema linear $\\mathbf{A}\\mathbf{x}=\\mathbf{b}$ tem solução?\n",
    "\n",
    "A resposta para a pergunta acima é: depende, se $\\mathbf{b}$ é um vetor no espaço coluna de $\\mathbf{A}$, então o sistema tem solução, pois neste caso existe um conjunto de coeficientes  tal que:\n",
    "\n",
    "$$\n",
    "\\mathbf{A}\\mathbf{x}=\n",
    "\\begin{bmatrix}\n",
    "| &  & |\\\\\n",
    "\\mathbf{a}_1  & \\cdots & \\mathbf{a}_k\\\\\n",
    "| &  & |\n",
    "\\end{bmatrix}\n",
    "\\begin{bmatrix}\n",
    "x_1 \\\\ \\vdots \\\\ x_k\n",
    "\\end{bmatrix}=\n",
    "x_1\\mathbf{a}_1 + \\cdots + x_k\\mathbf{a}_k = \\mathbf{b}\n",
    "$$\n",
    "\n",
    "A questão é, e se $\\mathbf{b}$ não está no espaço coluna de $\\mathbf{A}$? Neste caso, o sistema não tem solução. Porém, podemos buscar por uma melhor solução possível, como por exemplo o vetor $\\mathbf{x}$ que minimize a diferença\n",
    "\n",
    "$$\n",
    "\\|\\mathbf{A}\\mathbf{x} - \\mathbf{b}\\|^2\n",
    "$$\n",
    "\n",
    "Como $\\mathbf{A}\\mathbf{x}$ é um vetor no espaço coluna de $\\mathbf{A}$, o que procuramos é um conjunto de coeficientes $\\mathbf{x}$ tal que a distância de $\\mathbf{b}$ até o ponto $\\mathbf{p}=\\mathbf{A}\\mathbf{x}$ seja mínima."
   ]
  },
  {
   "cell_type": "markdown",
   "metadata": {
    "id": "MFfBHwJQegGS"
   },
   "source": [
    "Como o vetor $\\mathbf{b}-\\mathbf{p}$ tem que ser ortogonal ao espaço coluna de $\\mathbf{A}$ para que $\\|\\mathbf{A}\\mathbf{x} - \\mathbf{b}\\|^2$ seja mínimo (justifique esta afirmação), temos entao que:\n",
    "\n",
    "$$\n",
    "\\mathbf{A}^\\top(\\mathbf{b}-\\mathbf{p})=0\\\\\n",
    "\\downarrow\\\\\n",
    "\\mathbf{A}^\\top(\\mathbf{b}-\\mathbf{A}\\mathbf{x})=0\\\\\n",
    "\\downarrow\\\\\n",
    "\\mathbf{A}^\\top\\mathbf{A}\\mathbf{x}=\\mathbf{A}^\\top\\mathbf{b}\n",
    "$$\n",
    "\n",
    "Note que a matriz $\\mathbf{A}^\\top\\mathbf{A}$ é uma matriz quadrada $k\\times k$, logo, se o sistema linear tiver solução conseguimos calcular os coeficientes $\\mathbf{x}$ e, consequentemente, o ponto $\\mathbf{p}$. O sistema $\\mathbf{A}^\\top\\mathbf{A}\\mathbf{x}=\\mathbf{A}^\\top\\mathbf{b}$ é chamado de **equação normal** do método de mínimos quadrados.\n",
    "\n",
    "Portanto, a questão é: A matriz $\\mathbf{A}^\\top\\mathbf{A}$ é inversível? Em outras palavras,  a matriz tem posto $k$ (os vetores coluna são LI)?\n",
    "\n",
    "Note que a matriz $\\mathbf{A}^\\top\\mathbf{A}$ tem o mesmo espaço nulo da matriz $\\mathbf{A}$. De fato, \n",
    "\n",
    "$$\n",
    "\\mathbf{A}\\mathbf{x}=0\\rightarrow\\mathbf{A}^\\top\\mathbf{A}\\mathbf{x}=0\\\\\n",
    "\\mathbf{A}^\\top\\mathbf{A}\\mathbf{x}=0\\rightarrow\\mathbf{x}^\\top\\mathbf{A}^\\top\\mathbf{A}\\mathbf{x}=0\\rightarrow (\\mathbf{A}\\mathbf{x})^\\top(\\mathbf{A}\\mathbf{x})=0\\rightarrow \\|\\mathbf{A}\\mathbf{x}\\|^2=0\\rightarrow\\mathbf{A}\\mathbf{x}=0\n",
    "$$\n",
    "\n",
    "Logo, **se $\\mathbf{A}$ tem colunas LI**, então $\\mathbf{A}^\\top\\mathbf{A}$ tem colunas LI e **a equação normal tem solução**.\n",
    "\n",
    "**Importante**: A solução $\\mathbf{x}$ não é o ponto no espaço coluna, mas sim os coeficientes da combinação linear dos vetores colunas que gera o ponto, ou seja, o ponto no espaço coluna é dado por $\\mathbf{p}=\\mathbf{A}\\mathbf{x}$."
   ]
  },
  {
   "cell_type": "markdown",
   "metadata": {
    "id": "pvHrY82xegGT"
   },
   "source": [
    "**Obs**: $\\mathbf{A}$ é inversível se e so se as colunas de $\\mathbf{A}$ são LI se e so se $det(\\mathbf{A})\\neq0$"
   ]
  },
  {
   "cell_type": "markdown",
   "metadata": {
    "id": "c7myXUQ6egGU"
   },
   "source": [
    "## <font color='blue'> Projeção em Subespaços</font>"
   ]
  },
  {
   "cell_type": "markdown",
   "metadata": {
    "id": "xmtXDryJegGU"
   },
   "source": [
    "O ponto $\\mathbf{p}=\\mathbf{A}\\mathbf{x}$ é a projeção de $\\mathbf{b}$ no subespaço gerado pelas colunas da matriz $\\mathbf{A}$. Especificamente, temos que:\n",
    "\n",
    "$$\n",
    "\\mathbf{p} = \\mathbf{A}\\left((\\mathbf{A}^\\top\\mathbf{A})^{-1}\\mathbf{A}^\\top\\mathbf{b}\\right)\n",
    "$$\n",
    "\n",
    "A matriz $\\mathbf{A}(\\mathbf{A}^\\top\\mathbf{A})^{-1}\\mathbf{A}^\\top$ é a **matriz de  projeção** sobre o espaço coluna de $\\mathbf{A}$. Tal matriz projeta qualquer vetor sobre o espaço coluna de $\\mathbf{A}$."
   ]
  },
  {
   "cell_type": "markdown",
   "metadata": {
    "id": "70qZ9lDgegGV"
   },
   "source": [
    "### Exemplo: \n",
    "Vamos encontrar a projeção de um ponto qualquer do espaço $\\mathbb{R}^3$ sobre o plano dado pela equacão $x+y+z=0$."
   ]
  },
  {
   "cell_type": "code",
   "execution_count": 1,
   "metadata": {
    "colab": {
     "base_uri": "https://localhost:8080/",
     "height": 483
    },
    "executionInfo": {
     "elapsed": 1037,
     "status": "ok",
     "timestamp": 1632487046388,
     "user": {
      "displayName": "Luiz Otávio Toratti",
      "photoUrl": "https://lh3.googleusercontent.com/a-/AOh14GiJ2lu8bHxmHs09q5vtu3fcsIxB6URKBsrhkai9=s64",
      "userId": "09984317548107739267"
     },
     "user_tz": 180
    },
    "id": "Yg1e2XenegGV",
    "outputId": "b4996fe5-9e19-4517-f442-1b3657c9558c"
   },
   "outputs": [
    {
     "data": {
      "application/vnd.plotly.v1+json": {
       "config": {
        "plotlyServerURL": "https://plot.ly"
       },
       "data": [
        {
         "name": "Subespaço",
         "opacity": 0.5,
         "showscale": false,
         "type": "surface",
         "x": [
          [
           -3,
           -2,
           -1,
           0,
           1,
           2,
           3
          ],
          [
           -3,
           -2,
           -1,
           0,
           1,
           2,
           3
          ],
          [
           -3,
           -2,
           -1,
           0,
           1,
           2,
           3
          ],
          [
           -3,
           -2,
           -1,
           0,
           1,
           2,
           3
          ],
          [
           -3,
           -2,
           -1,
           0,
           1,
           2,
           3
          ],
          [
           -3,
           -2,
           -1,
           0,
           1,
           2,
           3
          ],
          [
           -3,
           -2,
           -1,
           0,
           1,
           2,
           3
          ]
         ],
         "y": [
          [
           -3,
           -3,
           -3,
           -3,
           -3,
           -3,
           -3
          ],
          [
           -2,
           -2,
           -2,
           -2,
           -2,
           -2,
           -2
          ],
          [
           -1,
           -1,
           -1,
           -1,
           -1,
           -1,
           -1
          ],
          [
           0,
           0,
           0,
           0,
           0,
           0,
           0
          ],
          [
           1,
           1,
           1,
           1,
           1,
           1,
           1
          ],
          [
           2,
           2,
           2,
           2,
           2,
           2,
           2
          ],
          [
           3,
           3,
           3,
           3,
           3,
           3,
           3
          ]
         ],
         "z": [
          [
           6,
           5,
           4,
           3,
           2,
           1,
           0
          ],
          [
           5,
           4,
           3,
           2,
           1,
           0,
           -1
          ],
          [
           4,
           3,
           2,
           1,
           0,
           -1,
           -2
          ],
          [
           3,
           2,
           1,
           0,
           -1,
           -2,
           -3
          ],
          [
           2,
           1,
           0,
           -1,
           -2,
           -3,
           -4
          ],
          [
           1,
           0,
           -1,
           -2,
           -3,
           -4,
           -5
          ],
          [
           0,
           -1,
           -2,
           -3,
           -4,
           -5,
           -6
          ]
         ]
        },
        {
         "line": {
          "color": "red"
         },
         "mode": "markers",
         "name": "Pontos originais",
         "type": "scatter3d",
         "x": [
          0.5108406908607863,
          2.078842799564099,
          1.26984855164519,
          -2.1356316286321606,
          -0.017218943832255196
         ],
         "y": [
          -1.847968290469109,
          -1.156475343470584,
          0.7393230547036596,
          -1.7217430263795097,
          2.4477035314770936
         ],
         "z": [
          0.6549980425083657,
          -1.9747900972435848,
          -1.2006943807803094,
          2.601885847476685,
          -0.6264277484162957
         ]
        },
        {
         "line": {
          "color": "blue"
         },
         "mode": "markers",
         "name": "Pontos projetados",
         "type": "scatter3d",
         "x": [
          0.7382172098941053,
          2.429650346614122,
          1.0003561431223433,
          -1.7171353594538319,
          -0.6185712235751029
         ],
         "y": [
          -1.62059177143579,
          -0.8056677964205605,
          0.4698306461808128,
          -1.3032467572011814,
          1.8463512517342462
         ],
         "z": [
          0.8823745615416847,
          -1.6239825501935614,
          -1.4701867893031562,
          3.0203821166550133,
          -1.2277800281591433
         ]
        },
        {
         "line": {
          "color": "black",
          "width": 2
         },
         "mode": "lines",
         "type": "scatter3d",
         "x": [
          0.7382172098941053,
          0.5108406908607863
         ],
         "y": [
          -1.62059177143579,
          -1.847968290469109
         ],
         "z": [
          0.8823745615416847,
          0.6549980425083657
         ]
        },
        {
         "line": {
          "color": "black",
          "width": 2
         },
         "mode": "lines",
         "type": "scatter3d",
         "x": [
          2.429650346614122,
          2.078842799564099
         ],
         "y": [
          -0.8056677964205605,
          -1.156475343470584
         ],
         "z": [
          -1.6239825501935614,
          -1.9747900972435848
         ]
        },
        {
         "line": {
          "color": "black",
          "width": 2
         },
         "mode": "lines",
         "type": "scatter3d",
         "x": [
          1.0003561431223433,
          1.26984855164519
         ],
         "y": [
          0.4698306461808128,
          0.7393230547036596
         ],
         "z": [
          -1.4701867893031562,
          -1.2006943807803094
         ]
        },
        {
         "line": {
          "color": "black",
          "width": 2
         },
         "mode": "lines",
         "type": "scatter3d",
         "x": [
          -1.7171353594538319,
          -2.1356316286321606
         ],
         "y": [
          -1.3032467572011814,
          -1.7217430263795097
         ],
         "z": [
          3.0203821166550133,
          2.601885847476685
         ]
        },
        {
         "line": {
          "color": "black",
          "width": 2
         },
         "mode": "lines",
         "type": "scatter3d",
         "x": [
          -0.6185712235751029,
          -0.017218943832255196
         ],
         "y": [
          1.8463512517342462,
          2.4477035314770936
         ],
         "z": [
          -1.2277800281591433,
          -0.6264277484162957
         ]
        },
        {
         "line": {
          "color": "black",
          "width": 3
         },
         "mode": "lines",
         "name": "Base",
         "type": "scatter3d",
         "x": [
          0,
          1
         ],
         "y": [
          0,
          0
         ],
         "z": [
          0,
          -1
         ]
        },
        {
         "line": {
          "color": "black",
          "width": 3
         },
         "mode": "lines",
         "name": "Base",
         "type": "scatter3d",
         "x": [
          0,
          0
         ],
         "y": [
          0,
          -1
         ],
         "z": [
          0,
          1
         ]
        }
       ],
       "layout": {
        "autosize": false,
        "height": 600,
        "margin": {
         "b": 20,
         "l": 20,
         "pad": 4,
         "r": 20,
         "t": 20
        },
        "paper_bgcolor": "LightSteelBlue",
        "scene": {
         "aspectmode": "data"
        },
        "showlegend": false,
        "template": {
         "data": {
          "bar": [
           {
            "error_x": {
             "color": "#2a3f5f"
            },
            "error_y": {
             "color": "#2a3f5f"
            },
            "marker": {
             "line": {
              "color": "#E5ECF6",
              "width": 0.5
             },
             "pattern": {
              "fillmode": "overlay",
              "size": 10,
              "solidity": 0.2
             }
            },
            "type": "bar"
           }
          ],
          "barpolar": [
           {
            "marker": {
             "line": {
              "color": "#E5ECF6",
              "width": 0.5
             },
             "pattern": {
              "fillmode": "overlay",
              "size": 10,
              "solidity": 0.2
             }
            },
            "type": "barpolar"
           }
          ],
          "carpet": [
           {
            "aaxis": {
             "endlinecolor": "#2a3f5f",
             "gridcolor": "white",
             "linecolor": "white",
             "minorgridcolor": "white",
             "startlinecolor": "#2a3f5f"
            },
            "baxis": {
             "endlinecolor": "#2a3f5f",
             "gridcolor": "white",
             "linecolor": "white",
             "minorgridcolor": "white",
             "startlinecolor": "#2a3f5f"
            },
            "type": "carpet"
           }
          ],
          "choropleth": [
           {
            "colorbar": {
             "outlinewidth": 0,
             "ticks": ""
            },
            "type": "choropleth"
           }
          ],
          "contour": [
           {
            "colorbar": {
             "outlinewidth": 0,
             "ticks": ""
            },
            "colorscale": [
             [
              0,
              "#0d0887"
             ],
             [
              0.1111111111111111,
              "#46039f"
             ],
             [
              0.2222222222222222,
              "#7201a8"
             ],
             [
              0.3333333333333333,
              "#9c179e"
             ],
             [
              0.4444444444444444,
              "#bd3786"
             ],
             [
              0.5555555555555556,
              "#d8576b"
             ],
             [
              0.6666666666666666,
              "#ed7953"
             ],
             [
              0.7777777777777778,
              "#fb9f3a"
             ],
             [
              0.8888888888888888,
              "#fdca26"
             ],
             [
              1,
              "#f0f921"
             ]
            ],
            "type": "contour"
           }
          ],
          "contourcarpet": [
           {
            "colorbar": {
             "outlinewidth": 0,
             "ticks": ""
            },
            "type": "contourcarpet"
           }
          ],
          "heatmap": [
           {
            "colorbar": {
             "outlinewidth": 0,
             "ticks": ""
            },
            "colorscale": [
             [
              0,
              "#0d0887"
             ],
             [
              0.1111111111111111,
              "#46039f"
             ],
             [
              0.2222222222222222,
              "#7201a8"
             ],
             [
              0.3333333333333333,
              "#9c179e"
             ],
             [
              0.4444444444444444,
              "#bd3786"
             ],
             [
              0.5555555555555556,
              "#d8576b"
             ],
             [
              0.6666666666666666,
              "#ed7953"
             ],
             [
              0.7777777777777778,
              "#fb9f3a"
             ],
             [
              0.8888888888888888,
              "#fdca26"
             ],
             [
              1,
              "#f0f921"
             ]
            ],
            "type": "heatmap"
           }
          ],
          "heatmapgl": [
           {
            "colorbar": {
             "outlinewidth": 0,
             "ticks": ""
            },
            "colorscale": [
             [
              0,
              "#0d0887"
             ],
             [
              0.1111111111111111,
              "#46039f"
             ],
             [
              0.2222222222222222,
              "#7201a8"
             ],
             [
              0.3333333333333333,
              "#9c179e"
             ],
             [
              0.4444444444444444,
              "#bd3786"
             ],
             [
              0.5555555555555556,
              "#d8576b"
             ],
             [
              0.6666666666666666,
              "#ed7953"
             ],
             [
              0.7777777777777778,
              "#fb9f3a"
             ],
             [
              0.8888888888888888,
              "#fdca26"
             ],
             [
              1,
              "#f0f921"
             ]
            ],
            "type": "heatmapgl"
           }
          ],
          "histogram": [
           {
            "marker": {
             "pattern": {
              "fillmode": "overlay",
              "size": 10,
              "solidity": 0.2
             }
            },
            "type": "histogram"
           }
          ],
          "histogram2d": [
           {
            "colorbar": {
             "outlinewidth": 0,
             "ticks": ""
            },
            "colorscale": [
             [
              0,
              "#0d0887"
             ],
             [
              0.1111111111111111,
              "#46039f"
             ],
             [
              0.2222222222222222,
              "#7201a8"
             ],
             [
              0.3333333333333333,
              "#9c179e"
             ],
             [
              0.4444444444444444,
              "#bd3786"
             ],
             [
              0.5555555555555556,
              "#d8576b"
             ],
             [
              0.6666666666666666,
              "#ed7953"
             ],
             [
              0.7777777777777778,
              "#fb9f3a"
             ],
             [
              0.8888888888888888,
              "#fdca26"
             ],
             [
              1,
              "#f0f921"
             ]
            ],
            "type": "histogram2d"
           }
          ],
          "histogram2dcontour": [
           {
            "colorbar": {
             "outlinewidth": 0,
             "ticks": ""
            },
            "colorscale": [
             [
              0,
              "#0d0887"
             ],
             [
              0.1111111111111111,
              "#46039f"
             ],
             [
              0.2222222222222222,
              "#7201a8"
             ],
             [
              0.3333333333333333,
              "#9c179e"
             ],
             [
              0.4444444444444444,
              "#bd3786"
             ],
             [
              0.5555555555555556,
              "#d8576b"
             ],
             [
              0.6666666666666666,
              "#ed7953"
             ],
             [
              0.7777777777777778,
              "#fb9f3a"
             ],
             [
              0.8888888888888888,
              "#fdca26"
             ],
             [
              1,
              "#f0f921"
             ]
            ],
            "type": "histogram2dcontour"
           }
          ],
          "mesh3d": [
           {
            "colorbar": {
             "outlinewidth": 0,
             "ticks": ""
            },
            "type": "mesh3d"
           }
          ],
          "parcoords": [
           {
            "line": {
             "colorbar": {
              "outlinewidth": 0,
              "ticks": ""
             }
            },
            "type": "parcoords"
           }
          ],
          "pie": [
           {
            "automargin": true,
            "type": "pie"
           }
          ],
          "scatter": [
           {
            "fillpattern": {
             "fillmode": "overlay",
             "size": 10,
             "solidity": 0.2
            },
            "type": "scatter"
           }
          ],
          "scatter3d": [
           {
            "line": {
             "colorbar": {
              "outlinewidth": 0,
              "ticks": ""
             }
            },
            "marker": {
             "colorbar": {
              "outlinewidth": 0,
              "ticks": ""
             }
            },
            "type": "scatter3d"
           }
          ],
          "scattercarpet": [
           {
            "marker": {
             "colorbar": {
              "outlinewidth": 0,
              "ticks": ""
             }
            },
            "type": "scattercarpet"
           }
          ],
          "scattergeo": [
           {
            "marker": {
             "colorbar": {
              "outlinewidth": 0,
              "ticks": ""
             }
            },
            "type": "scattergeo"
           }
          ],
          "scattergl": [
           {
            "marker": {
             "colorbar": {
              "outlinewidth": 0,
              "ticks": ""
             }
            },
            "type": "scattergl"
           }
          ],
          "scattermapbox": [
           {
            "marker": {
             "colorbar": {
              "outlinewidth": 0,
              "ticks": ""
             }
            },
            "type": "scattermapbox"
           }
          ],
          "scatterpolar": [
           {
            "marker": {
             "colorbar": {
              "outlinewidth": 0,
              "ticks": ""
             }
            },
            "type": "scatterpolar"
           }
          ],
          "scatterpolargl": [
           {
            "marker": {
             "colorbar": {
              "outlinewidth": 0,
              "ticks": ""
             }
            },
            "type": "scatterpolargl"
           }
          ],
          "scatterternary": [
           {
            "marker": {
             "colorbar": {
              "outlinewidth": 0,
              "ticks": ""
             }
            },
            "type": "scatterternary"
           }
          ],
          "surface": [
           {
            "colorbar": {
             "outlinewidth": 0,
             "ticks": ""
            },
            "colorscale": [
             [
              0,
              "#0d0887"
             ],
             [
              0.1111111111111111,
              "#46039f"
             ],
             [
              0.2222222222222222,
              "#7201a8"
             ],
             [
              0.3333333333333333,
              "#9c179e"
             ],
             [
              0.4444444444444444,
              "#bd3786"
             ],
             [
              0.5555555555555556,
              "#d8576b"
             ],
             [
              0.6666666666666666,
              "#ed7953"
             ],
             [
              0.7777777777777778,
              "#fb9f3a"
             ],
             [
              0.8888888888888888,
              "#fdca26"
             ],
             [
              1,
              "#f0f921"
             ]
            ],
            "type": "surface"
           }
          ],
          "table": [
           {
            "cells": {
             "fill": {
              "color": "#EBF0F8"
             },
             "line": {
              "color": "white"
             }
            },
            "header": {
             "fill": {
              "color": "#C8D4E3"
             },
             "line": {
              "color": "white"
             }
            },
            "type": "table"
           }
          ]
         },
         "layout": {
          "annotationdefaults": {
           "arrowcolor": "#2a3f5f",
           "arrowhead": 0,
           "arrowwidth": 1
          },
          "autotypenumbers": "strict",
          "coloraxis": {
           "colorbar": {
            "outlinewidth": 0,
            "ticks": ""
           }
          },
          "colorscale": {
           "diverging": [
            [
             0,
             "#8e0152"
            ],
            [
             0.1,
             "#c51b7d"
            ],
            [
             0.2,
             "#de77ae"
            ],
            [
             0.3,
             "#f1b6da"
            ],
            [
             0.4,
             "#fde0ef"
            ],
            [
             0.5,
             "#f7f7f7"
            ],
            [
             0.6,
             "#e6f5d0"
            ],
            [
             0.7,
             "#b8e186"
            ],
            [
             0.8,
             "#7fbc41"
            ],
            [
             0.9,
             "#4d9221"
            ],
            [
             1,
             "#276419"
            ]
           ],
           "sequential": [
            [
             0,
             "#0d0887"
            ],
            [
             0.1111111111111111,
             "#46039f"
            ],
            [
             0.2222222222222222,
             "#7201a8"
            ],
            [
             0.3333333333333333,
             "#9c179e"
            ],
            [
             0.4444444444444444,
             "#bd3786"
            ],
            [
             0.5555555555555556,
             "#d8576b"
            ],
            [
             0.6666666666666666,
             "#ed7953"
            ],
            [
             0.7777777777777778,
             "#fb9f3a"
            ],
            [
             0.8888888888888888,
             "#fdca26"
            ],
            [
             1,
             "#f0f921"
            ]
           ],
           "sequentialminus": [
            [
             0,
             "#0d0887"
            ],
            [
             0.1111111111111111,
             "#46039f"
            ],
            [
             0.2222222222222222,
             "#7201a8"
            ],
            [
             0.3333333333333333,
             "#9c179e"
            ],
            [
             0.4444444444444444,
             "#bd3786"
            ],
            [
             0.5555555555555556,
             "#d8576b"
            ],
            [
             0.6666666666666666,
             "#ed7953"
            ],
            [
             0.7777777777777778,
             "#fb9f3a"
            ],
            [
             0.8888888888888888,
             "#fdca26"
            ],
            [
             1,
             "#f0f921"
            ]
           ]
          },
          "colorway": [
           "#636efa",
           "#EF553B",
           "#00cc96",
           "#ab63fa",
           "#FFA15A",
           "#19d3f3",
           "#FF6692",
           "#B6E880",
           "#FF97FF",
           "#FECB52"
          ],
          "font": {
           "color": "#2a3f5f"
          },
          "geo": {
           "bgcolor": "white",
           "lakecolor": "white",
           "landcolor": "#E5ECF6",
           "showlakes": true,
           "showland": true,
           "subunitcolor": "white"
          },
          "hoverlabel": {
           "align": "left"
          },
          "hovermode": "closest",
          "mapbox": {
           "style": "light"
          },
          "paper_bgcolor": "white",
          "plot_bgcolor": "#E5ECF6",
          "polar": {
           "angularaxis": {
            "gridcolor": "white",
            "linecolor": "white",
            "ticks": ""
           },
           "bgcolor": "#E5ECF6",
           "radialaxis": {
            "gridcolor": "white",
            "linecolor": "white",
            "ticks": ""
           }
          },
          "scene": {
           "xaxis": {
            "backgroundcolor": "#E5ECF6",
            "gridcolor": "white",
            "gridwidth": 2,
            "linecolor": "white",
            "showbackground": true,
            "ticks": "",
            "zerolinecolor": "white"
           },
           "yaxis": {
            "backgroundcolor": "#E5ECF6",
            "gridcolor": "white",
            "gridwidth": 2,
            "linecolor": "white",
            "showbackground": true,
            "ticks": "",
            "zerolinecolor": "white"
           },
           "zaxis": {
            "backgroundcolor": "#E5ECF6",
            "gridcolor": "white",
            "gridwidth": 2,
            "linecolor": "white",
            "showbackground": true,
            "ticks": "",
            "zerolinecolor": "white"
           }
          },
          "shapedefaults": {
           "line": {
            "color": "#2a3f5f"
           }
          },
          "ternary": {
           "aaxis": {
            "gridcolor": "white",
            "linecolor": "white",
            "ticks": ""
           },
           "baxis": {
            "gridcolor": "white",
            "linecolor": "white",
            "ticks": ""
           },
           "bgcolor": "#E5ECF6",
           "caxis": {
            "gridcolor": "white",
            "linecolor": "white",
            "ticks": ""
           }
          },
          "title": {
           "x": 0.05
          },
          "xaxis": {
           "automargin": true,
           "gridcolor": "white",
           "linecolor": "white",
           "ticks": "",
           "title": {
            "standoff": 15
           },
           "zerolinecolor": "white",
           "zerolinewidth": 2
          },
          "yaxis": {
           "automargin": true,
           "gridcolor": "white",
           "linecolor": "white",
           "ticks": "",
           "title": {
            "standoff": 15
           },
           "zerolinecolor": "white",
           "zerolinewidth": 2
          }
         }
        },
        "width": 800
       }
      }
     },
     "metadata": {},
     "output_type": "display_data"
    }
   ],
   "source": [
    "import numpy as np\n",
    "import matplotlib.pyplot as plt\n",
    "from mpl_toolkits.mplot3d import Axes3D\n",
    "import plotly.graph_objects as go\n",
    "\n",
    "# Vamos encontrar uma base para o espaço correspondendo ao plano x+y+z=0\n",
    "# e armazena-la como colunas de uma matriz A\n",
    "A = np.array([[1,0,-1],[0,-1,1]]).T\n",
    "\n",
    "# gerando o plano \n",
    "xx, yy = np.meshgrid(range(-3,4), range(-3,4))\n",
    "zz = -xx-yy\n",
    "\n",
    "# Definindo 5 pontos quaisque em R3\n",
    "B = np.random.uniform(-2.9,2.9,size=(3,5))\n",
    "\n",
    "# Projetando os pontos sobre o plano\n",
    "# encontrando os coeficientes de cada ponto\n",
    "# At * A * x = At * b Eq. Normal\n",
    "AtA = np.dot(A.T, A)\n",
    "Atb = np.dot(A.T, B)\n",
    "x = np.linalg.solve(AtA, Atb)\n",
    "\n",
    "# encontrando as projeções\n",
    "P = np.dot(A, x)\n",
    "\n",
    "# Plot\n",
    "fig = go.Figure()\n",
    "fig.add_trace(go.Surface(x=xx, y=yy, z=zz, opacity=0.5, showscale=False, name='Subespaço'))\n",
    "fig.add_trace(go.Scatter3d(x=B[0,:], y=B[1,:], z=B[2,:], mode='markers', line=dict(color='red'), name='Pontos originais'))\n",
    "fig.add_trace(go.Scatter3d(x=P[0,:], y=P[1,:], z=P[2,:], mode='markers', line=dict(color='blue'), name='Pontos projetados'))\n",
    "for i in range(B.shape[1]):\n",
    "    fig.add_trace(go.Scatter3d(x=[P[0,i],B[0,i]], y=[P[1,i],B[1,i]], z=[P[2,i],B[2,i]], mode='lines', line=dict(width=2, color='black')))\n",
    "\n",
    "fig.add_trace(go.Scatter3d(x=[0,A[0,0]], y=[0,A[1,0]], z=[0,A[2,0]], mode='lines', line=dict(width=3, color='black'), name='Base'))\n",
    "fig.add_trace(go.Scatter3d(x=[0,A[0,1]], y=[0,A[1,1]], z=[0,A[2,1]], mode='lines', line=dict(width=3, color='black'), name='Base'))\n",
    "\n",
    "fig.update_layout(\n",
    "    scene_aspectmode='data', autosize=False, width=800, height=600,\n",
    "    margin=dict(l=20,r=20,b=20,t=20,pad=4),\n",
    "    paper_bgcolor=\"LightSteelBlue\",\n",
    "    showlegend=False\n",
    ")\n",
    "fig.show()"
   ]
  },
  {
   "cell_type": "markdown",
   "metadata": {
    "id": "HXQNKvrNegGX"
   },
   "source": [
    "## <font color='blue'> Aproximação de Funções </font>"
   ]
  },
  {
   "cell_type": "markdown",
   "metadata": {
    "id": "v8xcOqjcegGX"
   },
   "source": [
    "Suponha que um conjunto de amostras $(t_i,f(t_i))$, $i=1,\\ldots,n$ seja fornecido. Tais anostras podem ser, por exemplo, medidas de temperatura $f(t_i)$ no instante $t_i$. A função $f$ não é conhecida, o que temos são apenas valores da função em alguns pontos específicos."
   ]
  },
  {
   "cell_type": "code",
   "execution_count": 2,
   "metadata": {
    "id": "ic_OBDJkegGY",
    "outputId": "895428b2-4edd-440b-88aa-d7ed654d6c65"
   },
   "outputs": [
    {
     "data": {
      "image/png": "[encoded data removed]",
      "text/plain": [
       "<Figure size 800x700 with 1 Axes>"
      ]
     },
     "metadata": {},
     "output_type": "display_data"
    }
   ],
   "source": [
    "X = np.random.uniform(-1,1,size=(2,100))\n",
    "X[1,:] = 1 + 2*X[0,:] + np.random.uniform(-0.5,0.5,100)\n",
    "\n",
    "# gerando eixos de R^2\n",
    "plt.figure(figsize=(8,7))\n",
    "plt.plot([-3,3],[0,0],color='k')\n",
    "plt.plot([0,0],[-2,3],color='k')\n",
    "\n",
    "# plotando os pontos\n",
    "plt.scatter(X[0,:],X[1,:],color='k')\n",
    "plt.show()"
   ]
  },
  {
   "cell_type": "markdown",
   "metadata": {
    "id": "hxryvoZ8egGY"
   },
   "source": [
    "Se quisessemos fazer uma previsão da temperatura em algum instante de tempo onde a medição não foi realizada, precisariamos conhecer, ou pelo menos aproximar a função $f$ de alguma forma. Analisando o plot, vemos que a temperatura varia de forma proximadamente linear. Portanto, podemos supor que a função temperatura seria linear, ou seja:\n",
    "\n",
    "$$\n",
    "f(t) = a_1 + a_2t\n",
    "$$\n",
    "\n",
    "A questão é como encontrar os valores de $a_1$ e $a_2$. Buscamos encontrar tais valores de modo a:\n",
    "\n",
    "$$\n",
    "\\begin{matrix}\n",
    "a_1 + a_2t_1 \\approx f(t_1)\\\\\n",
    "a_1 + a_2t_2 \\approx f(t_2)\\\\\n",
    "\\vdots \\\\\n",
    "a_1 + a_2t_n \\approx f(t_n)\\\\\n",
    "\\end{matrix}\n",
    "$$\n",
    "\n",
    "Podemos escrever na forma matricial como:\n",
    "$$\n",
    "\\begin{bmatrix}\n",
    "1 & t_1 \\\\\n",
    "1 & t_2 \\\\\n",
    "\\vdots & \\vdots \\\\\n",
    "1 & t_n \\\\\n",
    "\\end{bmatrix}\n",
    "\\begin{bmatrix}\n",
    "a_1 \\\\ a_2\n",
    "\\end{bmatrix}\\approx\n",
    "\\begin{bmatrix}\n",
    "f(t_1)\\\\\n",
    "f(t_2)\\\\\n",
    "\\vdots \\\\\n",
    "f(t_n)\n",
    "\\end{bmatrix}\\rightarrow\n",
    "\\mathbf{A}\\mathbf{\\alpha}=\\mathbf{f}\n",
    "$$\n",
    "\n",
    "Podemos interpretar as colunas da matriz como sendo vetores em $\\mathbb{R}^n$, assim como o vetor da direita. Logo, o que temos é um espaço de dimensão 2 em $\\mathbb{R}^n$ gerado pelas colunas da matriz$\\mathbf{A}$ e um ponto $\\mathbb{R}^n$ dado pelo vetor $\\mathbf{f}$. Desta forma, podemos encontrar valores $a_1$ e $a_2$ resolvendo a equação nomal associada ao sistema  acima, ou seja,\n",
    "\n",
    "$$\n",
    "\\mathbf{A}^\\top\\mathbf{A}\\mathbf{\\alpha}=\\mathbf{A}^\\top\\mathbf{f}\n",
    "$$"
   ]
  },
  {
   "cell_type": "code",
   "execution_count": 3,
   "metadata": {
    "id": "pEt-wyoJegGY",
    "outputId": "3a2c3548-ded5-4ab9-ace0-5d9f32e20612"
   },
   "outputs": [
    {
     "name": "stdout",
     "output_type": "stream",
     "text": [
      "2.007965692133169\n"
     ]
    },
    {
     "data": {
      "image/png": "[encoded data removed]",
      "text/plain": [
       "<Figure size 800x700 with 1 Axes>"
      ]
     },
     "metadata": {},
     "output_type": "display_data"
    }
   ],
   "source": [
    "import numpy as np\n",
    "import matplotlib.pyplot as plt\n",
    "\n",
    "X = np.random.uniform(-1,1,size=(2,100))\n",
    "X[1,:] = 1 + 2*X[0,:] + np.random.uniform(-0.5,0.5,100)\n",
    "\n",
    "# gerando eixos de R^2\n",
    "plt.figure(figsize=(8,7))\n",
    "plt.plot([-3,3],[0,0],color='k')\n",
    "plt.plot([0,0],[-2,3],color='k')\n",
    "\n",
    "# plotando os pontos\n",
    "plt.scatter(X[0,:],X[1,:],color='k')\n",
    "\n",
    "# Construindo a matriz A\n",
    "A = np.ones((X.shape[1],2))\n",
    "A[:,1] = X[0,:]\n",
    "\n",
    "AtA = np.dot(A.T, A)\n",
    "Atb = np.dot(A.T, X[1,:])\n",
    "alpha = np.linalg.solve(AtA, Atb)\n",
    "\n",
    "# y = a0 + a1 * x\n",
    "#y = alpha[0] + alpha[1]*X[0,:]\n",
    "\n",
    "x = np.linspace(-1,1,100)\n",
    "p = lambda x: alpha[0] + alpha[1]*x\n",
    "y = p(x)\n",
    "\n",
    "# Agora vc pode avaliar a função em qualquer ponto\n",
    "print(p(0.5))\n",
    "\n",
    "#plt.plot(X[0,:],y,color='red')\n",
    "plt.plot(x,y,color='green')\n",
    "plt.show()"
   ]
  },
  {
   "cell_type": "markdown",
   "metadata": {
    "id": "mOzdwyiregGZ"
   },
   "source": [
    "O erro de aproximação, chamado **erro médio quadrático**, é medido por meio da equação:\n",
    "\n",
    "$$\n",
    "Erro = \\frac{1}{n}\\|\\mathbf{A}\\mathbf{\\alpha} - \\mathbf{f}\\|^2\n",
    "$$ \n",
    "\n",
    "O $\\alpha$ obtido pelo método de mínimos quadrados gera o menor erro médio quadrático dentre todos os possíveis vetores $\\alpha$."
   ]
  },
  {
   "cell_type": "code",
   "execution_count": 4,
   "metadata": {
    "id": "RsQpXnEcegGZ",
    "outputId": "cf5824d1-2c3c-40bd-f8cc-d394d0b83c16"
   },
   "outputs": [
    {
     "name": "stdout",
     "output_type": "stream",
     "text": [
      "O erro de aproximação é: 0.09151096976832679\n"
     ]
    }
   ],
   "source": [
    "y = p(X[0,:])\n",
    "erro = np.linalg.norm(y - X[1,:])**2 / X.shape[1]\n",
    "print('O erro de aproximação é:', erro)"
   ]
  },
  {
   "cell_type": "markdown",
   "metadata": {
    "id": "lUJW5vFUegGZ"
   },
   "source": [
    "O método acima também pode ser utilizado para aproximar função que não são lineares. Por exemplo, considere o conjunto de pontos armazenados no arquivo `temperatura.dat`. Este aquivo contém medidads de temperatura no intervalo de um ano, armazenadas nas linhas do arquivo."
   ]
  },
  {
   "cell_type": "code",
   "execution_count": 28,
   "metadata": {
    "id": "lY27taB1egGa",
    "outputId": "9abdaf54-cce3-48f3-c930-b4d3449640fd"
   },
   "outputs": [
    {
     "data": {
      "image/png": "[encoded data removed]",
      "text/plain": [
       "<Figure size 576x432 with 1 Axes>"
      ]
     },
     "metadata": {
      "needs_background": "light"
     },
     "output_type": "display_data"
    }
   ],
   "source": [
    "# carregando o arquivo\n",
    "X = np.loadtxt('temperatura.dat')\n",
    "\n",
    "# plotando os pontos\n",
    "plt.figure(figsize=(8,6))\n",
    "plt.scatter(X[:,0], X[:,1], color='k')\n",
    "plt.show()"
   ]
  },
  {
   "cell_type": "markdown",
   "metadata": {
    "id": "om8W-NlKegGa"
   },
   "source": [
    "O comportamento da temperatura não é linear, mas pode ser modelado por uma função quadrática ou cúbica. Vamos supor uma aproximação por um polinômio cúbico da forma $y=a_0+a_1t+a_2t^2+a_3t^3$, assim buscamos:\n",
    "\n",
    "$$\n",
    "\\begin{matrix}\n",
    "a_0 + a_1t_1 + a_2t_1^2 + a_3t_1^3  \\approx f(t_1)\\\\\n",
    "a_0 + a_1t_2 + a_2t_2^2 + a_3t_2^3  \\approx f(t_2)\\\\\n",
    "\\vdots \\\\\n",
    "a_0 + a_1t_n + a_2t_n^2 + a_3t_n^3  \\approx f(t_n)\\\\\n",
    "\\end{matrix}\n",
    "$$\n",
    "\n",
    "Na forma matricial, as equações acima são escritas como:\n",
    "$$\n",
    "\\begin{bmatrix}\n",
    "1 & t_1 & t_1^2 & t_1^3\\\\\n",
    "1 & t_2 & t_2^2 & t_2^3\\\\\n",
    "\\vdots & \\vdots \\\\\n",
    "1 & t_n & t_n^2 & t_n^3\\\\\n",
    "\\end{bmatrix}\n",
    "\\begin{bmatrix}\n",
    "a_0 \\\\ a_1 \\\\ a_2 \\\\ a_3\n",
    "\\end{bmatrix}\\approx\n",
    "\\begin{bmatrix}\n",
    "f(t_1)\\\\\n",
    "f(t_2)\\\\\n",
    "\\vdots \\\\\n",
    "f(t_n)\n",
    "\\end{bmatrix}\\rightarrow\n",
    "\\mathbf{A}\\mathbf{\\alpha}=\\mathbf{f}\n",
    "$$"
   ]
  },
  {
   "cell_type": "code",
   "execution_count": 29,
   "metadata": {
    "id": "IC2ur36ZegGa",
    "outputId": "7152312b-082c-41c8-9631-b99ed3b19b13"
   },
   "outputs": [
    {
     "name": "stdout",
     "output_type": "stream",
     "text": [
      "3.838875104760859\n"
     ]
    },
    {
     "data": {
      "image/png": "[encoded data removed]",
      "text/plain": [
       "<Figure size 576x432 with 1 Axes>"
      ]
     },
     "metadata": {
      "needs_background": "light"
     },
     "output_type": "display_data"
    }
   ],
   "source": [
    "# Construindo a matrix\n",
    "\n",
    "#A = np.ones((X.shape[0],4))\n",
    "#A[:,1] = X[:,0]**1\n",
    "#A[:,2] = X[:,0]**2\n",
    "#A[:,3] = X[:,0]**3\n",
    "## OU\n",
    "#A = np.ones((X.shape[0],4))\n",
    "#for i in range(1,4):\n",
    "#    A[:,i] = X[:,0]**i\n",
    "## OU\n",
    "\n",
    "#A = np.vander(X[:,0], 4, increasing=True) # Grau 3\n",
    "\n",
    "#AtA = np.dot(A.T, A)\n",
    "#Atb = np.dot(A.T, X[:,1])\n",
    "#alpha = np.linalg.solve(AtA, Atb)\n",
    "\n",
    "def mmq_poly(x, y, n): # Grau n\n",
    "    A = np.vander(x, n+1, increasing=True) \n",
    "    AtA = np.dot(A.T, A)\n",
    "    Atb = np.dot(A.T, y)\n",
    "    alpha = np.linalg.solve(AtA, Atb)\n",
    "    return alpha\n",
    "\n",
    "alpha = mmq_poly(X[:,0], X[:,1], 3)\n",
    "\n",
    "# P(x) = a0 + a1*x + a2*x^2 + a3*x^3\n",
    "p = lambda x: alpha[0] + alpha[1] * x + alpha[2] * x**2 + alpha[3] * x**3\n",
    "\n",
    "#x = X[:,0]\n",
    "x = np.linspace(np.min(X[:,0]), np.max(X[:,0]), 100)\n",
    "y = p(x)\n",
    "\n",
    "# Plot\n",
    "plt.figure(figsize=(8,6))\n",
    "plt.scatter(X[:,0],X[:,1],color='k', alpha=0.6) # plotando os pontos\n",
    "plt.plot(x, y, color='red', linewidth=3)   # plotando o polinômio\n",
    "plt.show()"
   ]
  },
  {
   "cell_type": "code",
   "execution_count": 15,
   "metadata": {
    "id": "NI_XTVPZegGb",
    "outputId": "0ae6fc50-3917-4816-f010-78c405c7cf5a"
   },
   "outputs": [
    {
     "name": "stdout",
     "output_type": "stream",
     "text": [
      "O erro de aproximação é: 0.1114866889473244\n"
     ]
    },
    {
     "data": {
      "image/png": "[encoded data removed]",
      "text/plain": [
       "<Figure size 576x432 with 1 Axes>"
      ]
     },
     "metadata": {
      "needs_background": "light"
     },
     "output_type": "display_data"
    }
   ],
   "source": [
    "y = p(X[:,0])\n",
    "errov = y - X[:,1]\n",
    "erro = np.linalg.norm(errov)**2 / X.shape[0]\n",
    "print('O erro de aproximação é:', erro)\n",
    "\n",
    "plt.figure(figsize=(8,6))\n",
    "plt.plot(X[:,0],y, color='red', linewidth=3)\n",
    "plt.scatter(X[:,0],X[:,1], c=np.abs(errov), cmap='plasma')\n",
    "plt.show()"
   ]
  },
  {
   "cell_type": "code",
   "execution_count": 56,
   "metadata": {
    "id": "69Z_3N4OegGb",
    "outputId": "acd10b5c-9c7a-42d8-e33c-f731da7e20b9"
   },
   "outputs": [
    {
     "data": {
      "image/png": "[encoded data removed]",
      "text/plain": [
       "<Figure size 576x432 with 1 Axes>"
      ]
     },
     "metadata": {
      "needs_background": "light"
     },
     "output_type": "display_data"
    }
   ],
   "source": [
    "# visualizando o erro em alguns pontos\n",
    "errovs = np.argsort(np.abs(errov))\n",
    "npts = 5\n",
    "\n",
    "plt.figure(figsize=(8,6))\n",
    "plt.plot(X[:,0], y, color='red', linewidth=3)\n",
    "plt.scatter(X[errovs[-npts:],0],X[errovs[-npts:],1],color='k')\n",
    "\n",
    "for i in errovs[-npts:]:\n",
    "    plt.plot([X[i,0], X[i,0]], [X[i,1], y[i]], color='k', linestyle='--')"
   ]
  },
  {
   "cell_type": "markdown",
   "metadata": {
    "id": "nzeEN0VhegGb"
   },
   "source": [
    "## <font color='blue'> Mínimos Quadrados Ponderados </font>"
   ]
  },
  {
   "cell_type": "markdown",
   "metadata": {
    "id": "XpTlI2QLegGc"
   },
   "source": [
    "O método de mínimos quadrados é muito sensível aos dados utilizados no ajuste da função. Vejamos um exemplo:"
   ]
  },
  {
   "cell_type": "code",
   "execution_count": null,
   "metadata": {
    "id": "u8pbZ2CSegGc",
    "outputId": "7d8dcfce-c35a-4217-b369-92bcf726b657"
   },
   "outputs": [
    {
     "name": "stdout",
     "output_type": "stream",
     "text": [
      "[0.95099321 1.97759432]\n",
      "[1.05403871 1.90091406]\n"
     ]
    },
    {
     "data": {
      "text/plain": [
       "[<matplotlib.lines.Line2D at 0x11e79ecc0>]"
      ]
     },
     "execution_count": 49,
     "metadata": {},
     "output_type": "execute_result"
    },
    {
     "data": {
      "image/png": "[encoded data removed]",
      "text/plain": [
       "<Figure size 432x288 with 1 Axes>"
      ]
     },
     "metadata": {
      "needs_background": "light"
     },
     "output_type": "display_data"
    }
   ],
   "source": [
    "# Gerando os pontos de ajuste da função\n",
    "X = np.random.uniform(-1,1,size=(2,100))\n",
    "X[1,:] = 1 + 2*X[0,:] + np.random.uniform(-0.5,0.5,100)\n",
    "\n",
    "# plotando os pontos\n",
    "plt.scatter(X[0,:],X[1,:],color='k')\n",
    "\n",
    "# Construindo a matriz A\n",
    "A = np.ones((X.shape[1],2))\n",
    "A[:,1] = X[0,:]\n",
    "\n",
    "alpha = np.linalg.solve(np.dot(A.T,A),np.dot(A.T,X[1,:]))\n",
    "print(alpha)\n",
    "\n",
    "y = alpha[0] + alpha[1]*X[0,:]\n",
    "plt.plot(X[0,:],y,color='red')\n",
    "\n",
    "# perturbando pontos aleatórios\n",
    "pert = np.random.randint(0,X.shape[1],5)\n",
    "X[1,pert] += 2.0\n",
    "plt.scatter(X[0,pert],X[1,pert],color='k')\n",
    "\n",
    "# Construindo a matriz A\n",
    "A = np.ones((X.shape[1],2))\n",
    "A[:,1] = X[0,:]\n",
    "\n",
    "alpha = np.linalg.solve(np.dot(A.T,A),np.dot(A.T,X[1,:]))\n",
    "print(alpha)\n",
    "\n",
    "y = alpha[0] + alpha[1]*X[0,:]\n",
    "plt.plot(X[0,:],y,color='orange')"
   ]
  },
  {
   "cell_type": "markdown",
   "metadata": {
    "id": "29bLFQEZegGc"
   },
   "source": [
    "Uma forma de evitar que pontos _outliers_ interfiram no processo de ajuste é utilizar pesos, priorizando pontos que são mais \"confiáveis\". Tal processo é chamado **método dos mínimos quadrados ponderados**. Seja $w_1,\\ldots,w_n$ um conjunto de pesos associados a cada uma das amostras. Tai pesos podem ser organizados em uma matriz diagonal quadrada $\\mathbf{W}$ $n\\times n$, onde $n$ é o número de amostras. Assim, o problema a ser resolvido se torna:\n",
    "\n",
    "$$\n",
    "\\mathbf{W}\\mathbf{A}\\mathbf{\\alpha}=\\mathbf{W}\\mathbf{f}\n",
    "$$\n",
    "\n",
    "Assim, a solução do problema é dada pelas **equalções normais ponderadas**:\n",
    "\n",
    "$$\n",
    "(\\mathbf{W}\\mathbf{A})^\\top(\\mathbf{W}\\mathbf{A})\\mathbf{\\alpha}=(\\mathbf{W}\\mathbf{A})^\\top\\mathbf{W}\\mathbf{f}\\\\\n",
    "\\downarrow\\\\\n",
    "\\mathbf{A}^\\top\\mathbf{W}^\\top\\mathbf{W}\\mathbf{A}\\mathbf{\\alpha}=\\mathbf{A}^\\top\\mathbf{W}^\\top\\mathbf{W}\\mathbf{f}\n",
    "$$"
   ]
  },
  {
   "cell_type": "markdown",
   "metadata": {
    "id": "FIiLQJsOegGc"
   },
   "source": [
    "O problema que resta é como escolher os pesos a serem utilizados na matrix $\\mathbf{W}$. Existem diversas alternativas, sendo que uma das forma mais simples é calcular resolver as equações normais sem considerar os pesos, calcular o erro, e definir a matriz de pesos a partir do erro, dando um peso maior para os pontos com menor erro."
   ]
  },
  {
   "cell_type": "code",
   "execution_count": null,
   "metadata": {
    "id": "ZM2mVIKTegGc",
    "outputId": "f747b72c-ce95-4f47-ed92-880968cc1059"
   },
   "outputs": [
    {
     "name": "stdout",
     "output_type": "stream",
     "text": [
      "[1.14355298 2.24461982]\n",
      "[1.04582257 2.05543528]\n"
     ]
    },
    {
     "data": {
      "text/plain": [
       "[<matplotlib.lines.Line2D at 0x1295d9cc0>]"
      ]
     },
     "execution_count": 11,
     "metadata": {},
     "output_type": "execute_result"
    },
    {
     "data": {
      "image/png": "[encoded data removed]",
      "text/plain": [
       "<Figure size 432x288 with 1 Axes>"
      ]
     },
     "metadata": {
      "needs_background": "light"
     },
     "output_type": "display_data"
    }
   ],
   "source": [
    "# Gerando os pontos de ajuste da função\n",
    "X = np.zeros((2,100))\n",
    "X[0,:] = np.linspace(-1,1,100)\n",
    "X[1,:] = 1 + 2*X[0,:] + np.random.uniform(-0.5,0.5,100)\n",
    "\n",
    "# perturbando pontos aleatórios\n",
    "pert = np.random.randint(int(2*X.shape[1]/3),X.shape[1],5)\n",
    "X[1,pert] += 3.0\n",
    "\n",
    "# Construindo a matriz A\n",
    "A = np.ones((X.shape[1],2))\n",
    "A[:,1] = X[0,:]\n",
    "\n",
    "#Resolvendo as equacoes normais\n",
    "alpha = np.linalg.solve(np.dot(A.T,A),np.dot(A.T,X[1,:]))\n",
    "print(alpha)\n",
    "\n",
    "yo = alpha[0] + alpha[1]*X[0,:]\n",
    "\n",
    "# Calculando os erros\n",
    "errov = yo-X[1,:]\n",
    "\n",
    "# Calculando a matriz de pesos com o inverso do erro em cada ponto\n",
    "W = np.diag(np.exp(-errov**2))\n",
    "\n",
    "# Resolvendo as equacoes normais ponderadas\n",
    "AtWtWA = np.linalg.multi_dot([A.T,W.T,W,A])\n",
    "AtWtWf = np.linalg.multi_dot([A.T,W.T,W,X[1,:]])\n",
    "alphaw = np.linalg.solve(AtWtWA,AtWtWf)\n",
    "print(alphaw)\n",
    "\n",
    "#yw = alphaw[0] + alphaw[1]*X[0,:]\n",
    "yw = np.dot(A,alphaw)\n",
    "\n",
    "# plotando os resultados\n",
    "plt.scatter(X[0,:],X[1,:],color='k')\n",
    "plt.plot(X[0,:],yo,color='red')\n",
    "plt.plot(X[0,:],yw,color='orange')"
   ]
  }
 ],
 "metadata": {
  "colab": {
   "name": "minimos quadrados.ipynb",
   "provenance": []
  },
  "kernelspec": {
   "display_name": "Python 3.10.6 64-bit",
   "language": "python",
   "name": "python3"
  },
  "language_info": {
   "codemirror_mode": {
    "name": "ipython",
    "version": 3
   },
   "file_extension": ".py",
   "mimetype": "text/x-python",
   "name": "python",
   "nbconvert_exporter": "python",
   "pygments_lexer": "ipython3",
   "version": "3.10.6"
  },
  "vscode": {
   "interpreter": {
    "hash": "916dbcbb3f70747c44a77c7bcd40155683ae19c65e1c03b4aa3499c5328201f1"
   }
  }
 },
 "nbformat": 4,
 "nbformat_minor": 4
}
