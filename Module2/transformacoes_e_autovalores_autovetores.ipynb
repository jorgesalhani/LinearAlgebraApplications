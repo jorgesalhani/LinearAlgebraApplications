{
  "cells": [
    {
      "cell_type": "markdown",
      "metadata": {
        "id": "oKXyzROwPRtA"
      },
      "source": [
        "#SME0142 - Álgebra Linear e Aplicações\n",
        "## Exercícios - Aplicações das Transformaçõs Lineares, Autovalores e Autovetores\n",
        "####Docente: Cynthia de Oliveira Lage Ferreira\n",
        "\n",
        "ICMC - USP São Carlos"
      ]
    },
    {
      "cell_type": "code",
      "execution_count": 1,
      "metadata": {
        "id": "txNikBU4Rrvn"
      },
      "outputs": [],
      "source": [
        "import numpy as np\n",
        "import matplotlib.pyplot as plt"
      ]
    },
    {
      "cell_type": "markdown",
      "metadata": {
        "id": "X_rv-EVDSiZ_"
      },
      "source": [
        "####**Exercício 01**\n",
        "Determine uma transformação linear $T:\\mathbb{R}^5 \\to \\mathbb{R}^3$ tal que $Im(T) = [(1,0,0),(0,1,0),(1,1,1)]$ e $Ker(T) = [(1,1,1,1,1),(1,1,1,1,0)]$."
      ]
    },
    {
      "cell_type": "markdown",
      "metadata": {
        "id": "Wn13Whx7Srcv"
      },
      "source": [
        "####**Solução:**\n",
        "A transformação linear $T$ é unicamente determinada conhecendo $T$ em uma base de $\\mathbb{R}^5$. Como já temos os vetores $v_1 = (1,1,1,1,1)$ e $v_2 = (1,1,1,1,0)$ linearmente independentes, podemos completar a base com os vetores $e_1, e_2, e_3 \\in \\mathbb{R}^5$ da base canônica, obtendo a base $B = \\{e_1, e_2, e_3, v_1, v_2\\}$. Assim, temos que:\n",
        "- $T(e_1) = (1,0,0)$\n",
        "- $T(e_2) = (0,1,0)$\n",
        "- $T(e_3) = (1,1,1)$\n",
        "- $T(v_1) = (0,0,0)$\n",
        "- $T(v_2) = (0,0,0)$\n",
        "\n",
        "Seja $x \\in \\mathbb{R}^5$. Escrevendo $x$ na base $B$ temos\n",
        "\n",
        "$$\n",
        "\\begin{align*}\n",
        "(x_1, x_2, x_3, x_4, x_5) &=& \\alpha_1(1,0,0,0,0) + \\alpha_2(0,1,0,0,0) + \\alpha_3(0,0,1,0,0) + \\alpha_4(1,1,1,1,1) + \\alpha_5(1,1,1,1,0) \\\\\n",
        "&=& (\\alpha_1 + \\alpha_4 + \\alpha_5, \\alpha_2 + \\alpha_4 + \\alpha_5, \\alpha_3 + \\alpha_4 + \\alpha_5, \\alpha_4 + \\alpha_5, \\alpha_4)\n",
        "\\end{align*}\n",
        "\n",
        "\\begin{cases}\n",
        "\\alpha_1 + \\alpha_4 + \\alpha_5  &=& x_1 \\Rightarrow \\alpha_1 = x_1 - x_4 \\\\\n",
        "\\alpha_2 + \\alpha_4 + \\alpha_5 &=& x_2 \\Rightarrow \\alpha_2 = x_2 - x_4 \\\\\n",
        "\\alpha_3 + \\alpha_4 + \\alpha_5 &=& x_3 \\Rightarrow \\alpha_3 = x_3 - x_4 \\\\\n",
        "\\alpha_4 + \\alpha_5 &=& x_4 \\Rightarrow \\alpha_5 = x_4 - x_5 \\\\\n",
        "\\alpha_4 &=& x_5\n",
        "\\end{cases}\n",
        "$$\n",
        "Portanto,\n",
        "\n",
        "$$(x_1, x_2, x_3, x_4, x_5) = (x_1 - x_4)(1,0,0,0,0) + (x_2 - x_4)(0,1,0,0,0) + (x_3 - x_4)(0,0,1,0,0) + x_5(1,1,1,1,1) + (x_4 - x_5)(1,1,1,1,0)$$\n",
        "\n",
        "Aplicando a transformação T\n",
        "$$\n",
        "\\begin{align*}\n",
        "T(x_1, x_2, x_3, x_4, x_5) &=& (x_1 - x_4)T(1,0,0,0,0) + (x_2 - x_4)T(0,1,0,0,0) + (x_3 - x_4)T(0,0,1,0,0) + x_5T(1,1,1,1,1) + (x_4 - x_5)T(1,1,1,1,0) \\\\\n",
        "&=& (x_1 - x_4)(1,0,0) + (x_2 - x_4)(0,1,0) + (x_3 - x_4)(1,1,1) + x_5(0,0,0) + (x_4 - x_5)(0,0,0) \\\\\n",
        "&=& (x_1 + x_3 - 2x_4, x_2 + x_3 -2x_4, x_3 - x_4)\n",
        "\\end{align*}\n",
        "$$\n",
        "Matriz de T\n",
        "\n",
        "$$\n",
        "[T] = \n",
        "\\begin{bmatrix}\n",
        "1   & 0   & 1   & -2   & 0 \\\\\n",
        "0   & 1   & 1   & -2   & 0\\\\\n",
        "0   & 0   & 1   & -1   & 0\n",
        "\\end{bmatrix}\n",
        "$$\n",
        "\n",
        "---\n",
        "**Alternativa em notação matricial**\n",
        "\n",
        "$$x = \\alpha_1 e_1 + \\alpha_2 e_2 + \\alpha_3 e_3 + \\alpha_4 v_1 + \\alpha_5 v_2$$\n",
        "\n",
        "Na forma matricial\n",
        "\n",
        "$$\n",
        "\\underbrace{\n",
        "\\begin{bmatrix}\n",
        "|   & |   & |   & |   & | \\\\\n",
        "e_1 & e_2 & e_3 & v_1 & v_2\\\\\n",
        "|   & |   & |   & |   & |\n",
        "\\end{bmatrix}\n",
        "}_{M}\n",
        "\\begin{bmatrix}\n",
        "\\alpha_1 \\\\ \\vdots \\\\ \\alpha_5\n",
        "\\end{bmatrix}\n",
        "=\n",
        "\\begin{bmatrix}\n",
        "x_1 \\\\ \\vdots \\\\ x_5\n",
        "\\end{bmatrix}\n",
        "$$\n",
        "\n",
        "Como $B$ é base, a matriz $M$ é invertível. Portanto, $\\alpha = M^{-1}x$.\n",
        "\n",
        "Aplicando a transformação linear $A$ obtemos\n",
        "\n",
        "$$T(x) = \\alpha_1 T(e_1) + \\alpha_2 T(e_2) + \\alpha_3 T(e_3) + \\alpha_4 T(v_1) + \\alpha_5 T(v_2)$$\n",
        "\n",
        "$$\n",
        "T(x) = \n",
        "\\underbrace{\n",
        "\\begin{bmatrix}\n",
        "1   & 0   & 1   & 0   & 0 \\\\\n",
        "0   & 1   & 1   & 0   & 0\\\\\n",
        "0   & 0   & 1   & 0   & 0\n",
        "\\end{bmatrix}\n",
        "}_{N}\n",
        "\\begin{bmatrix}\n",
        "\\alpha_1 \\\\ \\vdots \\\\ \\alpha_5\n",
        "\\end{bmatrix}\n",
        "$$\n",
        "\n",
        "$$T(x) = N\\alpha = NM^{-1}x$$"
      ]
    },
    {
      "cell_type": "code",
      "execution_count": 3,
      "metadata": {
        "colab": {
          "base_uri": "https://localhost:8080/"
        },
        "id": "uriMf9agS7Tz",
        "outputId": "fd8a8376-8018-44e7-9f22-a34a38cd73b4"
      },
      "outputs": [
        {
          "name": "stdout",
          "output_type": "stream",
          "text": [
            "Matriz da transformação linear A:\n",
            "[[ 1.  0.  1. -2.  0.]\n",
            " [ 0.  1.  1. -2.  0.]\n",
            " [ 0.  0.  1. -1.  0.]]\n",
            "\n",
            "Imagem de um vetor qualquer gerado por v1 e v2:\n",
            "[[0.]\n",
            " [0.]\n",
            " [0.]]\n"
          ]
        }
      ],
      "source": [
        "# Solução\n",
        "# Geradores da imagem\n",
        "u1 = np.array([[1,0,0]]).T\n",
        "u2 = np.array([[0,1,0]]).T\n",
        "u3 = np.array([[1,1,1]]).T\n",
        "\n",
        "# Vetores da base canonica\n",
        "e1 = np.array([[1,0,0,0,0]]).T\n",
        "e2 = np.array([[0,1,0,0,0]]).T\n",
        "e3 = np.array([[0,0,1,0,0]]).T\n",
        "\n",
        "# Base do Thiago\n",
        "#b1 = np.array([[1,1,1,0,1]]).T\n",
        "#b2 = np.array([[1,1,0,1,1]]).T\n",
        "#b3 = np.array([[1,0,1,1,1]]).T\n",
        "\n",
        "# Geradores do espaço nulo\n",
        "v1 = np.array([[1,1,1,1,1]]).T\n",
        "v2 = np.array([[1,1,1,1,0]]).T\n",
        "\n",
        "M = np.hstack((e1, e2, e3, v1, v2))\n",
        "#M = np.hstack((b1, b2, b3, v1, v2))\n",
        "#print(np.linalg.det(M))\n",
        "\n",
        "N = np.zeros((3,5))\n",
        "N[:,0] = u1[:,0]\n",
        "N[:,1] = u2[:,0]\n",
        "N[:,2] = u3[:,0]\n",
        "\n",
        "# Matriz da transformação linear A\n",
        "A = N @ np.linalg.inv(M)\n",
        "\n",
        "print('Matriz da transformação linear A:')\n",
        "print(A)\n",
        "print('')\n",
        "\n",
        "# Verificando vetor no núcleo\n",
        "v = np.random.rand(1) * v1 + np.random.rand(1) * v2\n",
        "print('Imagem de um vetor qualquer gerado por v1 e v2:')\n",
        "print(A @ v)"
      ]
    },
    {
      "cell_type": "markdown",
      "metadata": {
        "id": "BkHFb7DpRZmY"
      },
      "source": [
        "####**Exercício 02**\n",
        "Seja a transformação linear $T:\\mathbb{R}^2 \\to \\mathbb{R}^2$ associada a matriz \n",
        "$$ A = \n",
        "\\begin{bmatrix}\n",
        "2 & 1 \\\\\n",
        "1 & 2 \n",
        "\\end{bmatrix}\n",
        ".$$\n",
        "Considere a circunferência $C=\\{(x,y)\\in\\mathbb{R}^2;\\; x^2+y^2=1\\}$. Implemente uma visualização da imagem da circunferência $C$ pela transformação linear $T$.\n",
        "- Dica: Discretize um conjunto de pontos de $C$ através da parametrização $(x, y) = (cos(t), sen(t))$ e aplique a transformação nesses pontos."
      ]
    },
    {
      "cell_type": "code",
      "execution_count": 2,
      "metadata": {
        "colab": {
          "base_uri": "https://localhost:8080/",
          "height": 341
        },
        "id": "yvl863mxRioO",
        "outputId": "97826db5-b198-419f-e301-700fd4912b85"
      },
      "outputs": [
        {
          "data": {
            "text/plain": [
              "[<matplotlib.lines.Line2D at 0x7f4ffef98410>]"
            ]
          },
          "execution_count": 2,
          "metadata": {},
          "output_type": "execute_result"
        },
        {
          "data": {
            "image/png": "[encoded data removed]",
            "text/plain": [
              "<Figure size 720x360 with 2 Axes>"
            ]
          },
          "metadata": {
            "needs_background": "light"
          },
          "output_type": "display_data"
        }
      ],
      "source": [
        "# Solução\n",
        "\n",
        "#T(x,y) = (2x+y, x+2y)\n",
        "\n",
        "# Discretização do parâmetro t\n",
        "t = np.linspace(0, 2*np.pi, 50)\n",
        "\n",
        "# Utilize a discretização do parâmetro t para obter os pontos da circunferência.\n",
        "C = np.array([np.cos(t), np.sin(t)])\n",
        "#print(C.shape)\n",
        "\n",
        "A = np.array([[2,1],[1,2]])\n",
        "\n",
        "C_new = np.zeros(C.shape)\n",
        "for i in range(t.shape[0]):\n",
        "  C_new[:,i] = A @ C[:,i]\n",
        "\n",
        "#C_new = A @ C\n",
        "\n",
        "fig, (ax1, ax2) = plt.subplots(1, 2, figsize=(10,5))\n",
        "ax1.axis([-2,2,-2,2])\n",
        "#ax1.plot(C[0,:], C[1,:], 'bo')\n",
        "ax1.plot(C[0,:], C[1,:])\n",
        "\n",
        "ax1.axis([-2,2,-2,2])\n",
        "#ax2.plot(C_new[0,:], C_new[1,:], 'ro')\n",
        "ax2.plot(C_new[0,:], C_new[1,:])"
      ]
    },
    {
      "cell_type": "markdown",
      "metadata": {
        "id": "ecIvtZHgatqe"
      },
      "source": [
        "####**Exercício 03**\n",
        "Seja $T:\\mathbb{R}^2 \\to \\mathbb{R}^2$ a transformação linear tal que $T(1,0) = (cos\\;\\theta,\\;sen\\;\\theta)$ e $T(0,1) = (-sen\\;\\theta,\\;cos\\;\\theta)$, com $\\theta \\in \\mathbb{R}$. \n",
        " \n",
        "- Determine a transformação $T$ e sua matriz na base canônica.\n",
        "- Implemente uma função que recebe um parâmetro $\\theta$ e retorna a matriz da transformação $T$.\n",
        "- Aplique essa transformação no triângulo de vértices $(-1,1)$, $(1,1)$ e $(0,1)$ com $\\theta=\\pi / 4$ e visualize o resultado. O que você pode observar em relação a transformação $T$ ?"
      ]
    },
    {
      "cell_type": "markdown",
      "metadata": {
        "id": "vRlbqySUb2uY"
      },
      "source": [
        "####**Solução:**\n",
        "Seja $(x,y) = x(1,0) + y(0,1) \\in \\mathbb{R}^2$. Aplicando a transformação $T$ temos:\n",
        "\n",
        "\\begin{eqnarray}\n",
        "T(x, y) &=& xT(1,0) + yT(0,1) \\\\\n",
        "        &=& x(cos(\\theta), sen(\\theta)) + y(-sen(\\theta), cos(\\theta)) \\\\\n",
        "        &=& (xcos(\\theta)-ysen(\\theta), xsen(\\theta)+ycos(\\theta))\n",
        "\\end{eqnarray}\n",
        "\n",
        "Matriz da transformação linear:\n",
        "$$ [T] = \n",
        "\\begin{bmatrix}\n",
        "cos(\\theta) & -sen(\\theta) \\\\\n",
        "sen(\\theta) & cos(\\theta) \n",
        "\\end{bmatrix}\n",
        ".$$"
      ]
    },
    {
      "cell_type": "code",
      "execution_count": 4,
      "metadata": {
        "colab": {
          "base_uri": "https://localhost:8080/",
          "height": 739
        },
        "id": "_PrZ_LKjb5U7",
        "outputId": "e99314f4-fc8a-4f38-a39d-1435e9348731"
      },
      "outputs": [
        {
          "data": {
            "image/png": "[encoded data removed]",
            "text/plain": [
              "<Figure size 432x432 with 1 Axes>"
            ]
          },
          "metadata": {
            "needs_background": "light"
          },
          "output_type": "display_data"
        },
        {
          "data": {
            "image/png": "[encoded data removed]",
            "text/plain": [
              "<Figure size 432x432 with 1 Axes>"
            ]
          },
          "metadata": {
            "needs_background": "light"
          },
          "output_type": "display_data"
        }
      ],
      "source": [
        "# Solução\n",
        "\n",
        "# Vértices do triângulo\n",
        "vertices = np.array([[-1,-1], [1,-1], [0,1]])\n",
        "\n",
        "# Impemente a função abaixo que recebe o ângulo theta\n",
        "# e retorna a matriz de rotação.\n",
        "def matrizRotacao(theta):\n",
        "  return np.array([[np.cos(theta), -np.sin(theta)], [np.sin(theta), np.cos(theta)]])\n",
        "\n",
        "theta = np.pi / 4\n",
        "R = matrizRotacao(theta)\n",
        "\n",
        "# Aplique a transformação nos vértices do triângulo\n",
        "# Você pode criar um novo conjunto de vértces ou \n",
        "# modificar os originais.\n",
        "v_new = np.zeros(vertices.shape)\n",
        "for i in range(vertices.shape[0]):\n",
        "  v_new[i,:] = R @ vertices[i,:]\n",
        "\n",
        "#v_new = (R @ vertices.T).T\n",
        "\n",
        "# Um simples plot para o triângulo\n",
        "def plotSimples(vx, vy):\n",
        "  plt.figure(figsize=(6,6))\n",
        "  plt.axis([-2, 2, -2, 2])\n",
        "  plt.plot([-2,2], [0,0], 'k--', alpha=0.75)\n",
        "  plt.plot([0,0], [-2,2],'k--', alpha=0.75)\n",
        "  plt.plot(vx, vy, 'k')\n",
        "  plt.plot([vx[0], vx[-1]], [vy[0], vy[-1]], 'k')\n",
        "  plt.plot(vx, vy, 'bo')\n",
        "  plt.grid('True')\n",
        "\n",
        "# Plot\n",
        "plotSimples(vertices[:,0], vertices[:,1])\n",
        "plotSimples(v_new[:,0], v_new[:,1])"
      ]
    },
    {
      "cell_type": "markdown",
      "metadata": {
        "id": "d3JlbD4IiTyc"
      },
      "source": [
        "####**Exercício 04**\n",
        "Construa o operador linear diagonalizável $T:\\mathbb{R}^3 \\to \\mathbb{R}^3$ que tenha $2$ e $9$ como autovalores de modo que os autoespaços sejam $V(2) = [(1,2,0),(0,6,1)]$ e $V(9) = [(1,1,1)]$."
      ]
    },
    {
      "cell_type": "code",
      "execution_count": 5,
      "metadata": {
        "colab": {
          "base_uri": "https://localhost:8080/"
        },
        "id": "V6PsoXI_jOo-",
        "outputId": "110fe957-a2c1-4081-c9e3-3c970fbe26f6"
      },
      "outputs": [
        {
          "name": "stdout",
          "output_type": "stream",
          "text": [
            "[[ 4. -1.  6.]\n",
            " [ 2.  1.  6.]\n",
            " [ 2. -1.  8.]]\n"
          ]
        }
      ],
      "source": [
        "# Construção das matrizes da diagonalização\n",
        "S = np.array([[1, 0, 1], \n",
        "              [2, 6, 1], \n",
        "              [0, 1, 1]])\n",
        "\n",
        "D = np.array([[2, 0, 0], \n",
        "              [0, 2, 0], \n",
        "              [0, 0, 9]])\n",
        "\n",
        "Sinv = np.linalg.inv(S)\n",
        "\n",
        "# Verificando se A = S*D*S^{-1}\n",
        "print(S @ D @ Sinv)"
      ]
    },
    {
      "cell_type": "markdown",
      "metadata": {
        "id": "AHQC6XmYjuCE"
      },
      "source": [
        "####**Exercício 05**\n",
        "\n",
        "Construa uma transformação linear que mapeia o vetor $\\mathbf{v}=[1,1,1,1,1]\\in\\mathbb{R}^5$ nele mesmo, ou seja, a transformação deve satisfazer $\\mathbf{A}\\mathbf{v}=\\mathbf{v}$."
      ]
    },
    {
      "cell_type": "code",
      "execution_count": 6,
      "metadata": {
        "colab": {
          "base_uri": "https://localhost:8080/"
        },
        "id": "Buwvfpb6jyol",
        "outputId": "b68b008c-c64c-4aac-e368-a386f3be82a4"
      },
      "outputs": [
        {
          "name": "stdout",
          "output_type": "stream",
          "text": [
            "Construção bem sucedida\n",
            "A matriz de transformação é:\n",
            " [[-0.7701594  -0.29243386  0.82963215  1.49736965 -0.26440853]\n",
            " [-0.53242366  0.55659677  0.44165352  0.3335446   0.20062878]\n",
            " [-1.33124429  0.07519613  1.52648197  1.34176986 -0.61220367]\n",
            " [-0.50401337 -0.41985802  0.43178681  1.13720904  0.35487553]\n",
            " [-0.31592204 -0.19659178  0.33076106  0.18901161  0.99274115]]\n",
            "\n",
            " A imagem de [1,1,1,1,1] é: [1. 1. 1. 1. 1.]\n"
          ]
        }
      ],
      "source": [
        "# O vetor v=[1,1,1,1,1] deve ser um autovetor da transformação \n",
        "# com autovalor associado igual a 1.\n",
        "# Para isso, construimos uma matriz com colunas LI sendo v uma das colunas\n",
        "\n",
        "v = np.array([1,1,1,1,1])\n",
        "\n",
        "# construindo a matriz com colunas LI garantindo v como a primeira coluna\n",
        "S = np.random.randint(0,100,size=(5,5))\n",
        "S[:,0] = v\n",
        "\n",
        "det = np.linalg.det(S)\n",
        "if det == 0:\n",
        "    print('Gerar novos colunas randomicas para S, demos azar')\n",
        "else:\n",
        "    print('Construção bem sucedida')\n",
        "    S_1 = np.linalg.inv(S)\n",
        "    \n",
        "    # Construindo a matriz de autovalores sendo o autovalor 1 na primeira posição\n",
        "    d = np.random.uniform(0,1,5)\n",
        "    d[0] = 1\n",
        "    L = np.diag(d)\n",
        "\n",
        "    # Constuindo a transformação\n",
        "    A = np.linalg.multi_dot([S,L,S_1])\n",
        "\n",
        "    # Garantindo que v é um autovetor\n",
        "    print('A matriz de transformação é:\\n',A)\n",
        "    print('\\n A imagem de [1,1,1,1,1] é:',np.dot(A,v))"
      ]
    }
  ],
  "metadata": {
    "colab": {
      "provenance": []
    },
    "kernelspec": {
      "display_name": "Python 3.10.6 64-bit",
      "language": "python",
      "name": "python3"
    },
    "language_info": {
      "name": "python",
      "version": "3.10.6"
    },
    "vscode": {
      "interpreter": {
        "hash": "916dbcbb3f70747c44a77c7bcd40155683ae19c65e1c03b4aa3499c5328201f1"
      }
    }
  },
  "nbformat": 4,
  "nbformat_minor": 0
}
